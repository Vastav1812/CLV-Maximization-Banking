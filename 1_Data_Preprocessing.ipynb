{
 "cells": [
  {
   "cell_type": "code",
   "execution_count": 1,
   "metadata": {},
   "outputs": [],
   "source": [
    "import pandas as pd\n",
    "import numpy as np\n",
    "import matplotlib.pyplot as plt\n",
    "import seaborn as sns\n"
   ]
  },
  {
   "cell_type": "code",
   "execution_count": 6,
   "metadata": {},
   "outputs": [],
   "source": [
    "transactions_df = pd.read_csv('../data/raw/transactions.csv')\n",
    "calls_df = pd.read_csv('../data/raw/support_calls.csv')\n",
    "info_df = pd.read_csv('../data/raw/customers.csv')"
   ]
  },
  {
   "cell_type": "code",
   "execution_count": 7,
   "metadata": {},
   "outputs": [
    {
     "name": "stdout",
     "output_type": "stream",
     "text": [
      "Transactions head:\n",
      "   customer_id transaction_date  transaction_amount product_category\n",
      "0       599576       2023-04-12              642.96         Mortgage\n",
      "1       434042       2024-08-14             2214.11      Credit Card\n",
      "2       821072       2023-06-07             1039.65        Insurance\n",
      "3       562577       2024-12-26             4479.97         Mortgage\n",
      "4       746844       2024-05-18             3239.45        Insurance\n",
      "\n",
      "Customer Calls head:\n",
      "   call_id  customer_id   call_date   issue_category  \\\n",
      "0  7460862       293093  2024-01-30  Payment Problem   \n",
      "1  1218276       344660  2024-05-05        Complaint   \n",
      "2  4009456       235984  2024-02-16  General Inquiry   \n",
      "3  7720697       157184  2024-06-07  General Inquiry   \n",
      "4  7844407       605912  2024-11-30        Complaint   \n",
      "\n",
      "                                     call_transcript  \n",
      "0  Major analysis build bad voice listen discussi...  \n",
      "1  Remember you choice reflect become natural so ...  \n",
      "2  Management relationship painting almost politi...  \n",
      "3   Measure realize or show job others campaign him.  \n",
      "4  Provide star up seek alone every could check e...  \n",
      "\n",
      "Customer Info head:\n",
      "   customer_id  age region   join_date\n",
      "0       961341   50   East  2024-01-20\n",
      "1       675489   72  North  2024-10-21\n",
      "2       101530   70  North  2023-01-01\n",
      "3       121204   75  North  2024-05-16\n",
      "4       120672   32  South  2020-12-04\n"
     ]
    }
   ],
   "source": [
    "print(\"Transactions head:\")\n",
    "print(transactions_df.head())\n",
    "\n",
    "print(\"\\nCustomer Calls head:\")\n",
    "print(calls_df.head())\n",
    "\n",
    "print(\"\\nCustomer Info head:\")\n",
    "print(info_df.head())"
   ]
  },
  {
   "cell_type": "code",
   "execution_count": 8,
   "metadata": {},
   "outputs": [
    {
     "name": "stdout",
     "output_type": "stream",
     "text": [
      "\n",
      "Missing values in Transactions:\n",
      "customer_id           0\n",
      "transaction_date      0\n",
      "transaction_amount    0\n",
      "product_category      0\n",
      "dtype: int64\n",
      "\n",
      "Missing values in Calls:\n",
      "call_id            0\n",
      "customer_id        0\n",
      "call_date          0\n",
      "issue_category     0\n",
      "call_transcript    0\n",
      "dtype: int64\n",
      "\n",
      "Missing values in Info:\n",
      "customer_id    0\n",
      "age            0\n",
      "region         0\n",
      "join_date      0\n",
      "dtype: int64\n"
     ]
    }
   ],
   "source": [
    "print(\"\\nMissing values in Transactions:\")\n",
    "print(transactions_df.isnull().sum())\n",
    "\n",
    "print(\"\\nMissing values in Calls:\")\n",
    "print(calls_df.isnull().sum())\n",
    "\n",
    "print(\"\\nMissing values in Info:\")\n",
    "print(info_df.isnull().sum())"
   ]
  },
  {
   "cell_type": "code",
   "execution_count": 9,
   "metadata": {},
   "outputs": [],
   "source": [
    "merged_df = pd.merge(transactions_df, info_df, on='customer_id', how='left')"
   ]
  },
  {
   "cell_type": "code",
   "execution_count": 10,
   "metadata": {},
   "outputs": [],
   "source": [
    "merged_df.drop_duplicates(inplace=True)"
   ]
  },
  {
   "cell_type": "code",
   "execution_count": 11,
   "metadata": {},
   "outputs": [
    {
     "name": "stdout",
     "output_type": "stream",
     "text": [
      "\n",
      "Merged dataframe info:\n",
      "<class 'pandas.core.frame.DataFrame'>\n",
      "RangeIndex: 100000 entries, 0 to 99999\n",
      "Data columns (total 7 columns):\n",
      " #   Column              Non-Null Count   Dtype  \n",
      "---  ------              --------------   -----  \n",
      " 0   customer_id         100000 non-null  int64  \n",
      " 1   transaction_date    100000 non-null  object \n",
      " 2   transaction_amount  100000 non-null  float64\n",
      " 3   product_category    100000 non-null  object \n",
      " 4   age                 100000 non-null  int64  \n",
      " 5   region              100000 non-null  object \n",
      " 6   join_date           100000 non-null  object \n",
      "dtypes: float64(1), int64(2), object(4)\n",
      "memory usage: 5.3+ MB\n",
      "None\n"
     ]
    }
   ],
   "source": [
    "print(\"\\nMerged dataframe info:\")\n",
    "print(merged_df.info())"
   ]
  },
  {
   "cell_type": "code",
   "execution_count": 12,
   "metadata": {},
   "outputs": [
    {
     "name": "stdout",
     "output_type": "stream",
     "text": [
      "\n",
      "Statistical summary:\n",
      "         customer_id  transaction_amount            age\n",
      "count  100000.000000       100000.000000  100000.000000\n",
      "mean   545837.109160         2501.949380      49.206380\n",
      "std    259807.831764         1439.847311      18.150882\n",
      "min    100019.000000           10.060000      18.000000\n",
      "25%    319150.000000         1256.062500      33.000000\n",
      "50%    544790.000000         2503.390000      49.000000\n",
      "75%    773365.000000         3744.147500      65.000000\n",
      "max    999882.000000         4999.980000      80.000000\n"
     ]
    }
   ],
   "source": [
    "print(\"\\nStatistical summary:\")\n",
    "print(merged_df.describe())"
   ]
  },
  {
   "cell_type": "code",
   "execution_count": 13,
   "metadata": {},
   "outputs": [
    {
     "name": "stderr",
     "output_type": "stream",
     "text": [
      "/Users/vastav/anaconda3/lib/python3.10/site-packages/seaborn/_oldcore.py:1119: FutureWarning: use_inf_as_na option is deprecated and will be removed in a future version. Convert inf values to NaN before operating instead.\n",
      "  with pd.option_context('mode.use_inf_as_na', True):\n"
     ]
    },
    {
     "data": {
      "image/png": "[encoded data removed]",
      "text/plain": [
       "<Figure size 800x600 with 1 Axes>"
      ]
     },
     "metadata": {},
     "output_type": "display_data"
    }
   ],
   "source": [
    "plt.figure(figsize=(8,6))\n",
    "sns.histplot(merged_df['transaction_amount'], kde=True)\n",
    "plt.title(\"Distribution of Transaction Amounts\")\n",
    "plt.xlabel(\"Amount\")\n",
    "plt.ylabel(\"Frequency\")\n",
    "plt.show()"
   ]
  },
  {
   "cell_type": "code",
   "execution_count": 14,
   "metadata": {},
   "outputs": [],
   "source": [
    "merged_df.to_csv('../data/processed/merged_data.csv', index=False)"
   ]
  },
  {
   "cell_type": "code",
   "execution_count": 15,
   "metadata": {},
   "outputs": [
    {
     "name": "stdout",
     "output_type": "stream",
     "text": [
      "\n",
      "Data preprocessing complete. Cleaned dataset saved to '../data/processed/merged_data.csv'\n"
     ]
    }
   ],
   "source": [
    "print(\"\\nData preprocessing complete. Cleaned dataset saved to '../data/processed/merged_data.csv'\")"
   ]
  }
 ],
 "metadata": {
  "kernelspec": {
   "display_name": "base",
   "language": "python",
   "name": "python3"
  },
  "language_info": {
   "codemirror_mode": {
    "name": "ipython",
    "version": 3
   },
   "file_extension": ".py",
   "mimetype": "text/x-python",
   "name": "python",
   "nbconvert_exporter": "python",
   "pygments_lexer": "ipython3",
   "version": "3.10.9"
  }
 },
 "nbformat": 4,
 "nbformat_minor": 2
}
